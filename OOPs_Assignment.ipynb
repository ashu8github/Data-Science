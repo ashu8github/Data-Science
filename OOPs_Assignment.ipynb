{
 "cells": [
  {
   "cell_type": "code",
   "execution_count": 18,
   "id": "47bd3bdd-d1bd-4112-a06f-69514f4b85e9",
   "metadata": {},
   "outputs": [],
   "source": [
    "'''Q1. Explain Class and Object with respect to Object-Oriented Programming. Give a suitable example.'''\n",
    "#Classes are user-defined data types that act as the blueprint for individual objects, attributes and methods. \n",
    "#Objects are instances of a class created with specifically defined data. \n",
    "class test1:\n",
    "    def __init__(self, name):\n",
    "        self.name1 = name\n",
    "        \n",
    "    def fun1(self):\n",
    "        print(\"Hello {}, welcome to the class.\".format(self.name1))"
   ]
  },
  {
   "cell_type": "code",
   "execution_count": 19,
   "id": "a6c02341-6956-4315-bc82-8772a0a3deae",
   "metadata": {},
   "outputs": [],
   "source": [
    "obj_test1 = test1('Ashish')"
   ]
  },
  {
   "cell_type": "code",
   "execution_count": 20,
   "id": "17c34f91-0547-49e3-bea6-f72ae2583500",
   "metadata": {},
   "outputs": [
    {
     "name": "stdout",
     "output_type": "stream",
     "text": [
      "Hello Ashish, welcome to the class.\n"
     ]
    }
   ],
   "source": [
    "obj_test1.fun1()"
   ]
  },
  {
   "cell_type": "code",
   "execution_count": 23,
   "id": "db4d0a26-5237-4371-917a-80e0236822ed",
   "metadata": {},
   "outputs": [],
   "source": [
    "#Q2. Name the four pillars of OOPs.\n",
    "#Polimorphism, Encapsulation, Inheritance, Abstraction"
   ]
  },
  {
   "cell_type": "code",
   "execution_count": 24,
   "id": "c131fa1f-8a53-46a9-9897-aa6df3f618cb",
   "metadata": {},
   "outputs": [],
   "source": [
    "#Q3. Explain why the __init__() function is used. Give a suitable example.\n",
    "#__init__ is one of the magic function in python. It is used as a constructor in python to initialise attributes of class.\n",
    "\n",
    "class test1:\n",
    "    def __init__(self, name):\n",
    "        self.name1 = name\n",
    "        \n",
    "    def fun1(self):\n",
    "        print(\"Hello {}, welcome to the class.\".format(self.name1))"
   ]
  },
  {
   "cell_type": "code",
   "execution_count": 25,
   "id": "a0d977a2-e27e-4766-9144-3c0c6f131af1",
   "metadata": {},
   "outputs": [],
   "source": [
    "#Q4. Why self is used in OOPs?\n",
    "# self is use to to bind the argument to the the class."
   ]
  },
  {
   "cell_type": "code",
   "execution_count": 29,
   "id": "9c0359c6-60ee-4d7f-b7c0-c4480430c3d2",
   "metadata": {},
   "outputs": [
    {
     "name": "stdout",
     "output_type": "stream",
     "text": [
      "Chalie\n",
      "Grandfather name : Chalie\n",
      "Father name : Alan\n",
      "Son name : Jack\n"
     ]
    }
   ],
   "source": [
    "#Q5. What is inheritance? Give an example for each type of inheritance.\n",
    "# To define a class that inherits all the methods and properties from another class is called as inheritance.\n",
    "# multiple inheritance\n",
    " \n",
    "# multilevel inheritance\n",
    " \n",
    "# Base class\n",
    " \n",
    "\n",
    "class Grandfather:\n",
    " \n",
    "    def __init__(self, grandfathername):\n",
    "        self.grandfathername = grandfathername\n",
    "\n",
    "# Intermediate class\n",
    " \n",
    "\n",
    "class Father(Grandfather):\n",
    "    def __init__(self, fathername, grandfathername):\n",
    "        self.fathername = fathername\n",
    " \n",
    "        # invoking constructor of Grandfather class\n",
    "        Grandfather.__init__(self, grandfathername)\n",
    "        \n",
    "# Derived class\n",
    " \n",
    "\n",
    "class Son(Father):\n",
    "    def __init__(self, sonname, fathername, grandfathername):\n",
    "        self.sonname = sonname\n",
    " \n",
    "        # invoking constructor of Father class\n",
    "        Father.__init__(self, fathername, grandfathername)\n",
    " \n",
    "    def print_name(self):\n",
    "        print('Grandfather name :', self.grandfathername)\n",
    "        print(\"Father name :\", self.fathername)\n",
    "        print(\"Son name :\", self.sonname)\n",
    " \n",
    " \n",
    "#  Driver code\n",
    "s1 = Son('Jack', 'Alan', 'Charlie')\n",
    "print(s1.grandfathername)\n",
    "s1.print_name()"
   ]
  },
  {
   "cell_type": "code",
   "execution_count": 31,
   "id": "733a9464-4ac5-4f14-91d9-8858dfb9039f",
   "metadata": {},
   "outputs": [
    {
     "name": "stdout",
     "output_type": "stream",
     "text": [
      "Father : Alan\n",
      "Mother : Judith\n"
     ]
    }
   ],
   "source": [
    "# multiple inheritance\n",
    "\n",
    "# Base class1\n",
    "class Mother:\n",
    "\tmothername = \"\"\n",
    "\n",
    "\tdef mother(self):\n",
    "\t\tprint(self.mothername)\n",
    "\n",
    "# Base class2\n",
    "\n",
    "\n",
    "class Father:\n",
    "\tfathername = \"\"\n",
    "\n",
    "\tdef father(self):\n",
    "\t\tprint(self.fathername)\n",
    "\n",
    "# Derived class\n",
    "\n",
    "\n",
    "class Son(Mother, Father):\n",
    "\tdef parents(self):\n",
    "\t\tprint(\"Father :\", self.fathername)\n",
    "\t\tprint(\"Mother :\", self.mothername)\n",
    "\n",
    "\n",
    "# Driver's code\n",
    "s1 = Son()\n",
    "s1.fathername = \"Alan\"\n",
    "s1.mothername = \"Judith\"\n",
    "s1.parents()\n"
   ]
  },
  {
   "cell_type": "code",
   "execution_count": null,
   "id": "0cd04fe4-e0fc-4743-8f05-53ca0f256659",
   "metadata": {},
   "outputs": [],
   "source": []
  }
 ],
 "metadata": {
  "kernelspec": {
   "display_name": "Python 3 (ipykernel)",
   "language": "python",
   "name": "python3"
  },
  "language_info": {
   "codemirror_mode": {
    "name": "ipython",
    "version": 3
   },
   "file_extension": ".py",
   "mimetype": "text/x-python",
   "name": "python",
   "nbconvert_exporter": "python",
   "pygments_lexer": "ipython3",
   "version": "3.10.8"
  }
 },
 "nbformat": 4,
 "nbformat_minor": 5
}
