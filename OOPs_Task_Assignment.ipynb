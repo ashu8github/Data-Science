{
 "cells": [
  {
   "cell_type": "code",
   "execution_count": 1,
   "id": "2dc051f6-d805-455e-94ea-78dfbd0d1544",
   "metadata": {},
   "outputs": [],
   "source": [
    "'''Q1, Create a vehicle class with an init method having instance variables as name_of_vehicle, max_speed\n",
    "and average_of_vehicle.'''\n",
    "\n",
    "class vehicle:\n",
    "    \n",
    "    def __init__(self, name_of_vehicle, max_speed, average_of_vehicle):\n",
    "        self.name_of_vehicle = name_of_vehicle\n",
    "        self.max_speed = max_speed\n",
    "        self.average_of_vehicle = average_of_vehicle\n",
    "    \n",
    "    def show_details(self):\n",
    "        print(self.name_of_vehicle, self.max_speed, self.average_of_vehicle)"
   ]
  },
  {
   "cell_type": "code",
   "execution_count": 19,
   "id": "a0b1a4e1-ec75-4c21-82f0-399a9255f69e",
   "metadata": {},
   "outputs": [],
   "source": [
    "v1 = vehicle('Venue', 300, 200)"
   ]
  },
  {
   "cell_type": "code",
   "execution_count": 20,
   "id": "513d3ef3-c46b-449d-ba4b-5673cb8e11d5",
   "metadata": {},
   "outputs": [
    {
     "name": "stdout",
     "output_type": "stream",
     "text": [
      "Venue 300 200\n"
     ]
    }
   ],
   "source": [
    "v1.show_details()"
   ]
  },
  {
   "cell_type": "code",
   "execution_count": 34,
   "id": "0a107f88-06a3-43c0-a08b-4308c7545ba1",
   "metadata": {},
   "outputs": [],
   "source": [
    "'''Q2. Create a child class car from the vehicle class created in Que 1, which will inherit the vehicle class.\n",
    "Create a method named seating_capacity which takes capacity as an argument and returns the name of\n",
    "the vehicle and its seating capacity.'''\n",
    "\n",
    "class car(vehicle):\n",
    "    \n",
    "    def __init__(self, capacity, name_of_vehicle, max_speed, average_of_vehicle):\n",
    "        self.capacity = capacity\n",
    "        \n",
    "        vehicle.__init__(self, name_of_vehicle, max_speed, average_of_vehicle)\n",
    "            \n",
    "    \n",
    "    def seating_capacity(self):\n",
    "        print(self.capacity, self.name_of_vehicle, self.max_speed, self.average_of_vehicle)\n",
    "        \n",
    "    "
   ]
  },
  {
   "cell_type": "code",
   "execution_count": 35,
   "id": "31ade355-f0ca-450a-95ef-4a18da532112",
   "metadata": {},
   "outputs": [],
   "source": [
    "c1 = car(5,'Venue', 300, 200)"
   ]
  },
  {
   "cell_type": "code",
   "execution_count": 36,
   "id": "c38c3a77-47d8-4e81-8957-aea53a85b0b3",
   "metadata": {},
   "outputs": [
    {
     "name": "stdout",
     "output_type": "stream",
     "text": [
      "5 Venue 300 200\n"
     ]
    }
   ],
   "source": [
    "c1.seating_capacity()"
   ]
  },
  {
   "cell_type": "code",
   "execution_count": 37,
   "id": "b5aabd5f-0f4d-4d40-9942-bf381da05e98",
   "metadata": {},
   "outputs": [
    {
     "name": "stdout",
     "output_type": "stream",
     "text": [
      "Father : Alan\n",
      "Mother : Judith\n"
     ]
    }
   ],
   "source": [
    "#Q3. What is multiple inheritance? Write a python code to demonstrate multiple inheritance.\n",
    "\n",
    "# multiple inheritance\n",
    "\n",
    "# Base class1\n",
    "class Mother:\n",
    "\tmothername = \"\"\n",
    "\n",
    "\tdef mother(self):\n",
    "\t\tprint(self.mothername)\n",
    "\n",
    "# Base class2\n",
    "\n",
    "\n",
    "class Father:\n",
    "\tfathername = \"\"\n",
    "\n",
    "\tdef father(self):\n",
    "\t\tprint(self.fathername)\n",
    "\n",
    "# Derived class\n",
    "\n",
    "\n",
    "class Son(Mother, Father):\n",
    "\tdef parents(self):\n",
    "\t\tprint(\"Father :\", self.fathername)\n",
    "\t\tprint(\"Mother :\", self.mothername)\n",
    "\n",
    "\n",
    "# Driver's code\n",
    "s1 = Son()\n",
    "s1.fathername = \"Alan\"\n",
    "s1.mothername = \"Judith\"\n",
    "s1.parents()\n"
   ]
  },
  {
   "cell_type": "code",
   "execution_count": 46,
   "id": "5a0a5398-dded-4359-9af1-c8b89569d79d",
   "metadata": {},
   "outputs": [
    {
     "name": "stdout",
     "output_type": "stream",
     "text": [
      "Sorry your age is below eligibility criteria\n",
      "setter method called\n",
      "getter method called\n",
      "10\n"
     ]
    }
   ],
   "source": [
    "'''Q4. What are getter and setter in python? Create a class and create a getter and a setter method in this\n",
    "class.'''\n",
    "#Getter and setter are used to avoid direct access of a class field i.e. private variables cannot be accessed directly or modified by external user.\n",
    "\n",
    "class Eligibility: \n",
    "\tdef __init__(self): \n",
    "\t\tself._age = 0\n",
    "\t\n",
    "\t@property\n",
    "\tdef age(self): \n",
    "\t\tprint(\"getter method called\") \n",
    "\t\treturn self._age \n",
    "\t\n",
    "\t@age.setter \n",
    "\tdef age(self, a): \n",
    "\t\tif(a < 18): \n",
    "\t\t\tprint(\"Sorry your age is below eligibility criteria\") \n",
    "\t\tprint(\"setter method called\") \n",
    "\t\tself._age = a \n",
    "\n",
    "Jack = Eligibility() \n",
    "\n",
    "Jack.age = 10\n",
    "\n",
    "print(Jack.age) \n",
    "\n"
   ]
  },
  {
   "cell_type": "code",
   "execution_count": 57,
   "id": "0c8f13fe-d9e5-44e7-aef3-1befa827ddda",
   "metadata": {},
   "outputs": [],
   "source": [
    "'''Q5.What is method overriding in python? Write a python code to demonstrate method overriding.'''\n",
    "'''Two or more methods have the same name but different numbers of parameters or different types of parameters, or both.'''\n",
    "\n",
    "\n",
    "def add(datatype, *args):\n",
    " \n",
    "    if datatype == 'int':\n",
    "        answer = 0\n",
    " \n",
    "    # if datatype is str\n",
    "    # initialize answer as ''\n",
    "    if datatype == 'str':\n",
    "        answer = ''\n",
    " \n",
    "    # Traverse through the arguments\n",
    "    for x in args:\n",
    " \n",
    "        # This will do addition if the\n",
    "        # arguments are int. Or concatenation\n",
    "        # if the arguments are str\n",
    "        answer = answer + x\n",
    " \n",
    "    print(answer)\n"
   ]
  },
  {
   "cell_type": "code",
   "execution_count": 63,
   "id": "fce19cdd-e941-4b68-939e-c333497ac9cc",
   "metadata": {},
   "outputs": [
    {
     "name": "stdout",
     "output_type": "stream",
     "text": [
      "8\n"
     ]
    }
   ],
   "source": [
    "add('int',5,3)"
   ]
  },
  {
   "cell_type": "code",
   "execution_count": null,
   "id": "3f2c52c7-2759-471e-a948-a3fbd612703a",
   "metadata": {},
   "outputs": [],
   "source": []
  }
 ],
 "metadata": {
  "kernelspec": {
   "display_name": "Python 3 (ipykernel)",
   "language": "python",
   "name": "python3"
  },
  "language_info": {
   "codemirror_mode": {
    "name": "ipython",
    "version": 3
   },
   "file_extension": ".py",
   "mimetype": "text/x-python",
   "name": "python",
   "nbconvert_exporter": "python",
   "pygments_lexer": "ipython3",
   "version": "3.10.8"
  }
 },
 "nbformat": 4,
 "nbformat_minor": 5
}
