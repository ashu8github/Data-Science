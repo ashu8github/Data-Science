{
 "cells": [
  {
   "cell_type": "code",
   "execution_count": null,
   "id": "56cc8cce-addd-443a-a9ca-aa650f7bbadb",
   "metadata": {},
   "outputs": [],
   "source": [
    "#Q1. What is multithreading in python? Why is it used? Name the module used to handle threads in python\n",
    "'''Multithreading refers to concurrently executing multiple threads by rapidly switching the control of the CPU between threads'''\n",
    "'''We use threads where our code is IO-bound; that is, it spends a significant amount of time waiting on input or output. \n",
    "An example might be downloading data from a list of URLs in parallel;\n",
    "the code can start requesting the data from the next URL while still waiting for the previous one to return.'''\n",
    "#threading module is used to handle threads in python."
   ]
  },
  {
   "cell_type": "code",
   "execution_count": null,
   "id": "3bad4d9f-3e89-4efe-b1e6-7b88f92950e7",
   "metadata": {},
   "outputs": [],
   "source": [
    "'''Q2.. Why threading module used? Write the use of the following functions\n",
    " 1. activeCount(): used to count the currently active or running threads.\n",
    " 2. currentThread() : Return the current Thread object, corresponding to the caller's thread of control. this function has been deprciated. SHould be using current_Thread() instead.\n",
    " 3. enumerate(): Return a list of all Thread objects currently alive.\n",
    "                The list includes daemonic threads, dummy thread objects created by current_thread(), and the main thread. It excludes terminated threads and\n",
    "                threads that have not yet been started.'''"
   ]
  },
  {
   "cell_type": "code",
   "execution_count": 10,
   "id": "862d6997-f948-4472-9978-db34d6da8108",
   "metadata": {},
   "outputs": [],
   "source": [
    "#Q3. Explain the following functions\n",
    "#1. run(): Represent a thread's activity. \n",
    "#2. start(): Starts a thread's activity.\n",
    "#3 join(): Blocks the calling thread till the time the thread whose join() method is called terminates, either normally or through an unhandled exception.\n",
    "#4 isAlive():Checks whether that thread is alive or not."
   ]
  },
  {
   "cell_type": "code",
   "execution_count": 28,
   "id": "0fd57cf8-d4b2-4220-b95a-9fe4623d29c6",
   "metadata": {},
   "outputs": [
    {
     "name": "stdout",
     "output_type": "stream",
     "text": [
      "square of 2 is 4\n",
      "square of 5 is 25\n",
      "square of 6 is 36\n",
      "square of 33 is 1089\n",
      "square of 5 is 25\n",
      "square of 6 is 36\n",
      "cube of 2 is 8\n",
      "cube of 5 is 125\n",
      "cube of 6 is 216\n",
      "cube of 33 is 35937\n",
      "cube of 5 is 125\n",
      "cube of 6 is 216\n"
     ]
    }
   ],
   "source": [
    "#Q4. Write a python program to create two threads. Thread one must print the list of squares and thread two must print the list of cubes\n",
    "import threading\n",
    "\n",
    "def fsquare(s):\n",
    "        x = s**2\n",
    "        print('square of {} is {}'.format(s,x))\n",
    "    \n",
    "    \n",
    "\n",
    "def fcube(s):\n",
    "    x = s**3\n",
    "    print('cube of {} is {}'.format(s,x))\n",
    "        \n",
    "\n",
    "thread1 = [threading.Thread(target = fsquare, args = (i,)) for i in [2,5,6,33,5,6]]\n",
    "for t in thread1:\n",
    "    t.start()\n",
    "thread2 = [threading.Thread(target = fcube, args = (i,)) for i in [2,5,6,33,5,6]]\n",
    "for t in thread2:\n",
    "    t.start()"
   ]
  },
  {
   "cell_type": "code",
   "execution_count": null,
   "id": "1431f5f8-d240-4652-a64f-7478c09f7ce1",
   "metadata": {},
   "outputs": [],
   "source": [
    "#Q5. State advantages and disadvantages of multithreading\n",
    "\n",
    "'''Following are some of the common advantages of multithreading:\n",
    "\n",
    "Enhanced performance by decreased development time\n",
    "Simplified and streamlined program coding\n",
    "Simultaneous and parallelized occurrence of tasks\n",
    "Better use of cache storage by utilization of resources\n",
    "Decreased cost of maintenance\n",
    "Better use of CPU resource'''\n",
    "\n",
    "'''Following are some of the common disadvantages of multithreading:\n",
    "Complex debugging and testing processes\n",
    "Overhead switching of context\n",
    "Increased potential for deadlock occurrence\n",
    "Increased difficulty level in writing a program\n",
    "Unpredictable results'''"
   ]
  },
  {
   "cell_type": "code",
   "execution_count": null,
   "id": "dea34693-ea67-4253-8915-a3ee1fbeeb3d",
   "metadata": {},
   "outputs": [],
   "source": [
    "#Q6. Explain deadlocks and race conditions.\n",
    "'''A race condition occurs when two threads use the same variable at a given time. \n",
    "Deadlock exists when two threads seek one lock simultaneously.'''"
   ]
  }
 ],
 "metadata": {
  "kernelspec": {
   "display_name": "Python 3 (ipykernel)",
   "language": "python",
   "name": "python3"
  },
  "language_info": {
   "codemirror_mode": {
    "name": "ipython",
    "version": 3
   },
   "file_extension": ".py",
   "mimetype": "text/x-python",
   "name": "python",
   "nbconvert_exporter": "python",
   "pygments_lexer": "ipython3",
   "version": "3.10.8"
  }
 },
 "nbformat": 4,
 "nbformat_minor": 5
}
