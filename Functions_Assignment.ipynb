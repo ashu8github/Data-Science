{
 "cells": [
  {
   "cell_type": "code",
   "execution_count": 79,
   "id": "a8a18a5f-e8cc-46b9-b109-08dffe5aa967",
   "metadata": {},
   "outputs": [],
   "source": [
    "#Q1. Which keyword is used to create a function? Create a function to return a list of odd numbers in the range of 1 to 25.\n",
    "#the keyword 'def' is used to create a function in python\n",
    "def odd_num():\n",
    "    a = []\n",
    "    for i in range(1,26):\n",
    "        if i%2 != 0:\n",
    "            a.append(i)\n",
    "    return a"
   ]
  },
  {
   "cell_type": "code",
   "execution_count": 80,
   "id": "54829123-13c1-453b-b1df-c4cddc9b3b1d",
   "metadata": {},
   "outputs": [
    {
     "data": {
      "text/plain": [
       "[1, 3, 5, 7, 9, 11, 13, 15, 17, 19, 21, 23, 25]"
      ]
     },
     "execution_count": 80,
     "metadata": {},
     "output_type": "execute_result"
    }
   ],
   "source": [
    "odd_num()"
   ]
  },
  {
   "cell_type": "code",
   "execution_count": 81,
   "id": "7ee4e7c1-d7ee-48ee-9a74-fcad51c473b9",
   "metadata": {},
   "outputs": [],
   "source": [
    "#Q2. Why *args and **kwargs is used in some functions? Create a function each for *args and **kwargs to demonstrate their use.\n",
    "#**args is used to pass a variable number of arguments to a function. It can be any number of arguments\n",
    "#**kwargs is used to pass dictiona(key-value pair) variable number of arguments to a function. It can be any number of arguments\n",
    "def guest(*args):\n",
    "    l1 = []\n",
    "    for i in args:\n",
    "        l1.append(i)\n",
    "    return l1\n",
    "\n",
    "def info(**kwargs):\n",
    "    l2 = []\n",
    "    l3 = []\n",
    "    for i in kwargs.keys():\n",
    "        l2.append(i)\n",
    "    for j in kwargs.values():\n",
    "        l3.append(j)\n",
    "    l4 = l2+l3\n",
    "    return l4\n",
    "    "
   ]
  },
  {
   "cell_type": "code",
   "execution_count": 82,
   "id": "44028e4c-93dc-4778-95cd-680a991e3c5a",
   "metadata": {},
   "outputs": [
    {
     "data": {
      "text/plain": [
       "['Ashish', 'Pooja']"
      ]
     },
     "execution_count": 82,
     "metadata": {},
     "output_type": "execute_result"
    }
   ],
   "source": [
    "guest('Ashish', 'Pooja')"
   ]
  },
  {
   "cell_type": "code",
   "execution_count": 83,
   "id": "da9a0330-1d32-44a7-b0b0-55406cb9bca0",
   "metadata": {},
   "outputs": [
    {
     "data": {
      "text/plain": [
       "['firstname', 'lastname', 'city', 'Ashish', 'Choudhary', 'Pune']"
      ]
     },
     "execution_count": 83,
     "metadata": {},
     "output_type": "execute_result"
    }
   ],
   "source": [
    "info(firstname = 'Ashish' , lastname = 'Choudhary' , city = 'Pune')"
   ]
  },
  {
   "cell_type": "code",
   "execution_count": 84,
   "id": "ff1500f8-6ae4-486a-a8db-9e6a26b105c5",
   "metadata": {},
   "outputs": [
    {
     "name": "stdout",
     "output_type": "stream",
     "text": [
      "2\n",
      "4\n",
      "6\n",
      "8\n",
      "10\n"
     ]
    }
   ],
   "source": [
    "'''Q3. What is an iterator in python? Name the method used to initialise the iterator object and the method\n",
    "used for iteration. Use these methods to print the first five elements of the given list [2, 4, 6, 8, 10, 12, 14, 16,\n",
    "18, 20].'''\n",
    "#An iterator is an object that contains a countable number of values. iter() is used to get the iterator of an iterable object\n",
    "l5 = [2, 4, 6, 8, 10, 12, 14, 16,18, 20]\n",
    "iterObject = iter(l5)\n",
    "for i in range(5):\n",
    "    print(next(iterObject, 'Iteration completed'))"
   ]
  },
  {
   "cell_type": "code",
   "execution_count": 85,
   "id": "f01c72ea-fab1-4862-9161-06b557bd434a",
   "metadata": {},
   "outputs": [],
   "source": [
    "'''Q4. What is a generator function in python? Why yield keyword is used? Give an example of a generator\n",
    "function.'''\n",
    "#A generator function allows you to declare a function that behaves like an iterator, providing a faster and easier way to create iterators\n",
    "# yield is used instead of return keyword in a function, to create an iterator.\n",
    "def fun_cube(x):\n",
    "    for i in range(1,6):\n",
    "        yield i**2\n",
    "        i += 1\n",
    "        "
   ]
  },
  {
   "cell_type": "code",
   "execution_count": 86,
   "id": "f430a505-8b3f-4a9a-8b71-76a894d4a4ab",
   "metadata": {},
   "outputs": [
    {
     "data": {
      "text/plain": [
       "<generator object fun_cube at 0x7f611932f300>"
      ]
     },
     "execution_count": 86,
     "metadata": {},
     "output_type": "execute_result"
    }
   ],
   "source": [
    "fun_cube(5)"
   ]
  },
  {
   "cell_type": "code",
   "execution_count": 87,
   "id": "0133433d-4842-4fca-b465-58b067e73a88",
   "metadata": {},
   "outputs": [
    {
     "name": "stdout",
     "output_type": "stream",
     "text": [
      "1\n",
      "4\n",
      "9\n",
      "16\n",
      "25\n"
     ]
    }
   ],
   "source": [
    "for i in fun_cube(4):\n",
    "    print(i)"
   ]
  },
  {
   "cell_type": "code",
   "execution_count": 88,
   "id": "59857464-f04d-4cce-941b-9a3f59712ecd",
   "metadata": {},
   "outputs": [],
   "source": [
    "'''Q5. Create a generator function for prime numbers less than 1000. Use the next() method to print the\n",
    "first 20 prime numbers.'''\n",
    "def fun_prime(x):\n",
    "    for i in range(2,1000):\n",
    "        for j in range(2,i):\n",
    "                if i%j == 0 or  i>x:\n",
    "                    break\n",
    "        else:\n",
    "            yield i\n",
    "\n",
    "\n"
   ]
  },
  {
   "cell_type": "code",
   "execution_count": 89,
   "id": "3158913a-f8cb-46fe-9718-41d977cbf762",
   "metadata": {},
   "outputs": [],
   "source": [
    "prime20 = fun_prime(20)"
   ]
  },
  {
   "cell_type": "code",
   "execution_count": 90,
   "id": "016ee3c0-d81e-45f3-a445-c965a99d4176",
   "metadata": {},
   "outputs": [
    {
     "name": "stdout",
     "output_type": "stream",
     "text": [
      "2\n",
      "3\n",
      "5\n",
      "7\n",
      "11\n",
      "13\n",
      "17\n",
      "19\n"
     ]
    }
   ],
   "source": [
    "for i in prime20:\n",
    "    print(i)"
   ]
  }
 ],
 "metadata": {
  "kernelspec": {
   "display_name": "Python 3 (ipykernel)",
   "language": "python",
   "name": "python3"
  },
  "language_info": {
   "codemirror_mode": {
    "name": "ipython",
    "version": 3
   },
   "file_extension": ".py",
   "mimetype": "text/x-python",
   "name": "python",
   "nbconvert_exporter": "python",
   "pygments_lexer": "ipython3",
   "version": "3.10.8"
  }
 },
 "nbformat": 4,
 "nbformat_minor": 5
}
