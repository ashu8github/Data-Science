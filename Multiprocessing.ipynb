{
 "cells": [
  {
   "cell_type": "code",
   "execution_count": null,
   "id": "3b816ece-73d6-4bf5-808b-0ff16f24dc9a",
   "metadata": {},
   "outputs": [],
   "source": [
    "#Q1. What is multiprocessing in python? Why is it useful?\n",
    "'''Multiprocessing in Python is a built-in package that allows the system to run multiple processes simultaneously.\n",
    "It will enable the breaking of applications into smaller threads that can run independently.\n",
    "It is useful for executing many different tasks concurrently for speed'''"
   ]
  },
  {
   "cell_type": "code",
   "execution_count": null,
   "id": "2b6d8c32-240f-4a48-9b9e-1737e6868cd7",
   "metadata": {},
   "outputs": [],
   "source": [
    "#Q2. What are the differences between multiprocessing and multithreading?\n",
    "'''Multiprocessing uses two or more CPUs to increase computing power, whereas multithreading uses a single process with multiple code segments to increase computing power.\n",
    "Multithreading focuses on generating computing threads from a single process, whereas multiprocessing increases computing power by adding CPUs.\n",
    "Multiprocessing is used to create a more reliable system, whereas multithreading is used to create threads that run parallel to each other.\n",
    "multithreading is quick to create and requires few resources, whereas multiprocessing requires a significant amount of time and specific resources to create.\n",
    "Multiprocessing executes many processes simultaneously, whereas multithreading executes many threads simultaneously.\n",
    "Multithreading uses a common address space for all the threads, whereas multiprocessing creates a separate address space for each process.'''"
   ]
  },
  {
   "cell_type": "code",
   "execution_count": 46,
   "id": "fa53b8da-68c5-4584-9a71-1863b6735317",
   "metadata": {},
   "outputs": [
    {
     "name": "stdout",
     "output_type": "stream",
     "text": [
      "cube of 3 is 27\n",
      "cube of 4 is 64\n",
      "cube of 5 is 125\n",
      "cube of 6 is 216\n",
      "cube of 7 is 343\n",
      "cube of 8 is 512\n",
      "Done\n"
     ]
    }
   ],
   "source": [
    "#Q3. Write a python code to create a process using the multiprocessing module.\n",
    "from multiprocessing import Process\n",
    "def cube(x):\n",
    "    for x in numbers:\n",
    "        print('cube of %s is %s' % (x, x**3))\n",
    "        \n",
    "\n",
    "if __name__ == '__main__':\n",
    "    numbers = [3, 4, 5, 6, 7, 8]\n",
    "    process1 = Process(target=cube, args=('x',))\n",
    "    process1.start()\n",
    "    process1.join()\n",
    "    print (\"Done\")"
   ]
  },
  {
   "cell_type": "code",
   "execution_count": null,
   "id": "41cd1085-e5a7-4179-8d09-e4660a4d388b",
   "metadata": {},
   "outputs": [],
   "source": [
    "#Q4. What is a multiprocessing pool in python? Why is it used?\n",
    "'''The Pool class represents a pool of worker processes. It has methods which allows tasks to be offloaded to the worker processes in a few different ways.\n",
    "Multiprocessing Pool can be used for parallel execution of a function across multiple input values, distributing the input data across processes'''"
   ]
  },
  {
   "cell_type": "code",
   "execution_count": null,
   "id": "411f80d6-7715-4a58-a375-160c4e0a7242",
   "metadata": {},
   "outputs": [],
   "source": [
    "#Q5. How can we create a pool of worker processes in python using the multiprocessing module?\n",
    "'''Create: Create the process pool by calling the constructor multiprocessing.Pool().\n",
    "Submit: Submit tasks synchronously or asynchronously.\n",
    "2a. Submit Tasks Synchronously\n",
    "2b. Submit Tasks Asynchronously\n",
    "Wait: Wait and get results as tasks complete (optional).\n",
    "3a. Wait on AsyncResult objects to Complete\n",
    "3b. Wait on AsyncResult objects for Result\n",
    "Shutdown: Shutdown the process pool by calling shutdown().\n",
    "4a. Shutdown Automatically with the Context Manager.'''"
   ]
  },
  {
   "cell_type": "code",
   "execution_count": 53,
   "id": "81e88fb7-0e3d-4c2d-a8db-8579bdb454d9",
   "metadata": {},
   "outputs": [
    {
     "name": "stdout",
     "output_type": "stream",
     "text": [
      "Square: 25Cube: 125\n",
      "Factorial: 120Factorial Square: 14400\n",
      "\n",
      "\n",
      "All Processes Completed!\n"
     ]
    }
   ],
   "source": [
    "#Q6. Write a python program to create 4 processes, each process should print a different number using the multiprocessing module in python.\n",
    "\n",
    "\n",
    "import multiprocessing\n",
    "import math\n",
    "\n",
    "def prnt_cu(n):\n",
    "    print(\"Cube: {}\".format(n * n * n))\n",
    "\n",
    "\n",
    "def prnt_squ(n):\n",
    "    print(\"Square: {}\".format(n * n))\n",
    "    \n",
    "\n",
    "def prnt_fact(n):\n",
    "    print(\"Factorial: {}\".format(math.factorial(n)))\n",
    "    \n",
    "def prnt_fact_sq(n):\n",
    "    print(\"Factorial Square: {}\".format(math.factorial(n)**2))\n",
    "    \n",
    "\n",
    "    \n",
    "    \n",
    "\n",
    "\n",
    "if __name__ == \"__main__\":\n",
    "    process1 = multiprocessing.Process(target=prnt_squ, args=(5, ))\n",
    "    process2 = multiprocessing.Process(target=prnt_cu, args=(5, ))\n",
    "    process3 = multiprocessing.Process(target=prnt_fact, args=(5, ))\n",
    "    process4 = multiprocessing.Process(target=prnt_fact_sq, args=(5, ))\n",
    "\n",
    "\n",
    "    process1.start()\n",
    "    process2.start()\n",
    "    process3.start()\n",
    "    process4.start()\n",
    "    process1.join()\n",
    "    process2.join()\n",
    "    process3.join()\n",
    "    process4.join()\n",
    "\n",
    "# Processes finished\n",
    "\n",
    "    print(\"All Processes Completed!\")"
   ]
  },
  {
   "cell_type": "code",
   "execution_count": null,
   "id": "46bb3da0-2dfa-4ea5-ac1d-0123d8145f1f",
   "metadata": {},
   "outputs": [],
   "source": []
  }
 ],
 "metadata": {
  "kernelspec": {
   "display_name": "Python 3 (ipykernel)",
   "language": "python",
   "name": "python3"
  },
  "language_info": {
   "codemirror_mode": {
    "name": "ipython",
    "version": 3
   },
   "file_extension": ".py",
   "mimetype": "text/x-python",
   "name": "python",
   "nbconvert_exporter": "python",
   "pygments_lexer": "ipython3",
   "version": "3.10.8"
  }
 },
 "nbformat": 4,
 "nbformat_minor": 5
}
