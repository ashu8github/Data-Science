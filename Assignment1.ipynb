{
 "cells": [
  {
   "cell_type": "code",
   "execution_count": 1,
   "id": "214f2ae9-555e-4a35-956b-59f8ffa898c0",
   "metadata": {},
   "outputs": [
    {
     "name": "stdout",
     "output_type": "stream",
     "text": [
      "This is  assignment number 1\n",
      "This is <class 'str'> variable\n"
     ]
    }
   ],
   "source": [
    "#Q1. Create one variable containing following type of data:\n",
    "strVar1 = 'This is  assignment number 1'\n",
    "print(strVar1)\n",
    "vartype = type(strVar1)\n",
    "print('This is ' + str(vartype) + ' variable')\n",
    "\n"
   ]
  },
  {
   "cell_type": "code",
   "execution_count": 2,
   "id": "f5e19c9c-6dcd-4e30-8f2c-1763e9747168",
   "metadata": {},
   "outputs": [
    {
     "name": "stdout",
     "output_type": "stream",
     "text": [
      "[1, 2, 'abc', 'ab12', 'This is part of list variable']\n",
      "This is <class 'list'> variable\n",
      "[5, 2, 'abc', 'ab12', 'This is part of list variable']\n"
     ]
    }
   ],
   "source": [
    "lstVar1 = [1,2,'abc', 'ab12', 'This is part of list variable']\n",
    "print(lstVar1)\n",
    "vartype = type(lstVar1)\n",
    "print('This is ' + str(vartype) + ' variable')\n",
    "lstVar1[0] = 5\n",
    "print(lstVar1)"
   ]
  },
  {
   "cell_type": "code",
   "execution_count": 3,
   "id": "eaf1ee16-ae2c-4a49-9d8a-6b08de37302e",
   "metadata": {},
   "outputs": [
    {
     "name": "stdout",
     "output_type": "stream",
     "text": [
      "<class 'float'>\n",
      "This is <class 'float'> variable\n"
     ]
    }
   ],
   "source": [
    "flVar1 = 2.5\n",
    "vartype = type(flVar1)\n",
    "print(vartype)\n",
    "print('This is ' + str(vartype) + ' variable')"
   ]
  },
  {
   "cell_type": "code",
   "execution_count": 4,
   "id": "e2c0c5e8-93b4-4794-ac28-24eb23fcb5ce",
   "metadata": {},
   "outputs": [
    {
     "name": "stdout",
     "output_type": "stream",
     "text": [
      "(1, 2, 'abc', 'ab12', 'This is part of tuple variable')\n",
      "This is <class 'tuple'> variable\n"
     ]
    }
   ],
   "source": [
    "tupVar1 = (1,2,'abc', 'ab12', 'This is part of tuple variable')\n",
    "print(tupVar1)\n",
    "vartype = type(tupVar1)\n",
    "print('This is ' + str(vartype) + ' variable')"
   ]
  },
  {
   "cell_type": "code",
   "execution_count": 20,
   "id": "ceff744a-c7f2-4bde-8a38-e29f2eb55e6d",
   "metadata": {},
   "outputs": [
    {
     "data": {
      "text/plain": [
       "str"
      ]
     },
     "execution_count": 20,
     "metadata": {},
     "output_type": "execute_result"
    }
   ],
   "source": [
    "'''Q2 What will be the data type of the above given variable.'''\n",
    "var1 = '' \n",
    "type(var1)"
   ]
  },
  {
   "cell_type": "code",
   "execution_count": 6,
   "id": "50003ff3-e1ef-4539-bbe4-dfd00e94157c",
   "metadata": {},
   "outputs": [
    {
     "data": {
      "text/plain": [
       "str"
      ]
     },
     "execution_count": 6,
     "metadata": {},
     "output_type": "execute_result"
    }
   ],
   "source": [
    "var2 = '[DS , ML , Python]'\n",
    "type(var2)"
   ]
  },
  {
   "cell_type": "code",
   "execution_count": 7,
   "id": "97484222-b28e-485e-8b29-9cc40dc78fbd",
   "metadata": {},
   "outputs": [
    {
     "data": {
      "text/plain": [
       "list"
      ]
     },
     "execution_count": 7,
     "metadata": {},
     "output_type": "execute_result"
    }
   ],
   "source": [
    "var3 = [ 'DS' , 'ML' , 'Python' ]\n",
    "type(var3)"
   ]
  },
  {
   "cell_type": "code",
   "execution_count": 8,
   "id": "b4291b90-5dd5-4b3e-94ea-ffb19ef0e02d",
   "metadata": {},
   "outputs": [
    {
     "name": "stdout",
     "output_type": "stream",
     "text": [
      "<class 'float'>\n",
      "<class 'tuple'>\n"
     ]
    }
   ],
   "source": [
    "var4 = 1.\n",
    "type(var4)\n",
    "var5 = (1, 4, 'abc')\n",
    "type(var5)\n",
    "print(type(var4))\n",
    "print(type(var5))"
   ]
  },
  {
   "cell_type": "code",
   "execution_count": 9,
   "id": "dec6f84d-170a-46a5-a981-1ac43fd57e76",
   "metadata": {},
   "outputs": [
    {
     "data": {
      "text/plain": [
       "2.5"
      ]
     },
     "execution_count": 9,
     "metadata": {},
     "output_type": "execute_result"
    }
   ],
   "source": [
    "#Q3. Explain the use of the following operators using an example:\n",
    "5/2"
   ]
  },
  {
   "cell_type": "code",
   "execution_count": 10,
   "id": "ff60873a-e6c2-4743-ab5b-21f5e8a1f399",
   "metadata": {},
   "outputs": [
    {
     "data": {
      "text/plain": [
       "2"
      ]
     },
     "execution_count": 10,
     "metadata": {},
     "output_type": "execute_result"
    }
   ],
   "source": [
    "7%5"
   ]
  },
  {
   "cell_type": "code",
   "execution_count": 11,
   "id": "3646dfd9-7200-427a-a79f-7ed4bed36457",
   "metadata": {},
   "outputs": [
    {
     "data": {
      "text/plain": [
       "1"
      ]
     },
     "execution_count": 11,
     "metadata": {},
     "output_type": "execute_result"
    }
   ],
   "source": [
    "7//5"
   ]
  },
  {
   "cell_type": "code",
   "execution_count": 12,
   "id": "b75384d8-c25e-41fa-9762-a4b51ac699f7",
   "metadata": {},
   "outputs": [
    {
     "data": {
      "text/plain": [
       "256"
      ]
     },
     "execution_count": 12,
     "metadata": {},
     "output_type": "execute_result"
    }
   ],
   "source": [
    "4**4\n"
   ]
  },
  {
   "cell_type": "code",
   "execution_count": 19,
   "id": "78e84755-d615-4296-b398-f34bb07d5167",
   "metadata": {},
   "outputs": [
    {
     "name": "stdout",
     "output_type": "stream",
     "text": [
      "Pune\n",
      "<class 'str'>\n",
      "2\n",
      "<class 'int'>\n",
      "9\n",
      "<class 'int'>\n",
      "5\n",
      "<class 'int'>\n",
      "2\n",
      "<class 'int'>\n",
      "25\n",
      "<class 'int'>\n",
      "67\n",
      "<class 'int'>\n",
      "92\n",
      "<class 'int'>\n",
      "100\n",
      "<class 'int'>\n",
      "2.5\n",
      "<class 'float'>\n",
      "Ashish\n",
      "<class 'str'>\n"
     ]
    }
   ],
   "source": [
    "'''Q4. Create a list of length 10 of your choice containing multiple types of data. Using for loop print the\n",
    "element and its data type.'''\n",
    "lstVar1 = ['Pune', 2, 9, 5, 2, 25,67,92,100, 2.5, 'Ashish']\n",
    "for i in lstVar1:\n",
    "    print(i)\n",
    "    print(type(i))"
   ]
  },
  {
   "cell_type": "code",
   "execution_count": 13,
   "id": "9c0a5f1d-8621-44dd-aa64-aace6a54332b",
   "metadata": {},
   "outputs": [
    {
     "name": "stdin",
     "output_type": "stream",
     "text": [
      " 35\n",
      " 7\n"
     ]
    },
    {
     "name": "stdout",
     "output_type": "stream",
     "text": [
      "35 is purely divisible by 7\n",
      "5\n"
     ]
    }
   ],
   "source": [
    "'''Q5. Using a while loop, verify if the number A is purely divisible by number B and if so then how many\n",
    "times it can be divisible'''\n",
    "a = input()\n",
    "b = input()\n",
    "c = int(a)%int(b)\n",
    "d = int(a)//int(b)\n",
    "while c == 0:\n",
    "    print(a +' is purely divisible by ' + b)\n",
    "    print(d)\n",
    "    c=1"
   ]
  },
  {
   "cell_type": "code",
   "execution_count": 16,
   "id": "61582d97-e923-48ea-ba02-9ba238a52b65",
   "metadata": {},
   "outputs": [
    {
     "name": "stdout",
     "output_type": "stream",
     "text": [
      "2\n",
      "this number is not divisible by 3\n",
      "9\n",
      "this number is divisible by 3\n",
      "5\n",
      "this number is not divisible by 3\n",
      "2\n",
      "this number is not divisible by 3\n",
      "25\n",
      "this number is not divisible by 3\n",
      "67\n",
      "this number is not divisible by 3\n",
      "92\n",
      "this number is not divisible by 3\n",
      "100\n",
      "this number is not divisible by 3\n",
      "234\n",
      "this number is divisible by 3\n",
      "56\n",
      "this number is not divisible by 3\n",
      "45\n",
      "this number is divisible by 3\n",
      "67\n",
      "this number is not divisible by 3\n",
      "23\n",
      "this number is not divisible by 3\n",
      "99\n",
      "this number is divisible by 3\n",
      "108\n",
      "this number is divisible by 3\n",
      "36\n",
      "this number is divisible by 3\n",
      "35\n",
      "this number is not divisible by 3\n",
      "27\n",
      "this number is divisible by 3\n",
      "95\n",
      "this number is not divisible by 3\n",
      "257\n",
      "this number is not divisible by 3\n",
      "1008\n",
      "this number is divisible by 3\n",
      "45\n",
      "this number is divisible by 3\n",
      "89\n",
      "this number is not divisible by 3\n",
      "38\n",
      "this number is not divisible by 3\n",
      "25\n",
      "this number is not divisible by 3\n"
     ]
    }
   ],
   "source": [
    "'''Q6. Create a list containing 25 int type data. Using for loop and if-else condition print if the element is\n",
    "divisible by 3 or not.'''\n",
    "lstVar1 = [2, 9, 5, 2, 25,67,92,100,234,56,45,67,23,99,108,36,35,27,95,257,1008,45,89,38,25]\n",
    "for i in lstVar1:\n",
    "    print(i)\n",
    "    if i%3 == 0:\n",
    "        print('this number is divisible by 3')\n",
    "    else: \n",
    "        print('this number is not divisible by 3')\n",
    "        "
   ]
  },
  {
   "cell_type": "code",
   "execution_count": 21,
   "id": "fb4ed0e9-e4ee-4137-a8b7-a60c0be3a3b0",
   "metadata": {},
   "outputs": [
    {
     "name": "stdout",
     "output_type": "stream",
     "text": [
      "[1, 2, 'abc', 'ab12', 'This is part of list variable']\n",
      "This is <class 'list'> variable\n",
      "[5, 2, 'abc', 'ab12', 'This is part of list variable']\n"
     ]
    }
   ],
   "source": [
    "'''Q7. What do you understand about mutable and immutable data types? Give examples for both showing\n",
    "this property.'''\n",
    "#Mutalbe data types' value can be changed while immutable datatypes' value can not be changed\n",
    "#List is mutable data type while tuple is immutable data type\n",
    "lstVar1 = [1,2,'abc', 'ab12', 'This is part of list variable']\n",
    "print(lstVar1)\n",
    "vartype = type(lstVar1)\n",
    "print('This is ' + str(vartype) + ' variable')\n",
    "lstVar1[0] = 5\n",
    "print(lstVar1)"
   ]
  },
  {
   "cell_type": "code",
   "execution_count": 22,
   "id": "c7db9d80-47f0-463a-94c3-827d78357754",
   "metadata": {},
   "outputs": [
    {
     "name": "stdout",
     "output_type": "stream",
     "text": [
      "(1, 2, 'abc', 'ab12', 'This is part of tuple variable')\n",
      "This is <class 'tuple'> variable\n"
     ]
    }
   ],
   "source": [
    "tupVar1 = (1,2,'abc', 'ab12', 'This is part of tuple variable')\n",
    "print(tupVar1)\n",
    "vartype = type(tupVar1)\n",
    "print('This is ' + str(vartype) + ' variable')"
   ]
  },
  {
   "cell_type": "code",
   "execution_count": null,
   "id": "03b1031c-ec78-4c56-96d3-5de7253620b6",
   "metadata": {},
   "outputs": [],
   "source": []
  }
 ],
 "metadata": {
  "kernelspec": {
   "display_name": "Python 3 (ipykernel)",
   "language": "python",
   "name": "python3"
  },
  "language_info": {
   "codemirror_mode": {
    "name": "ipython",
    "version": 3
   },
   "file_extension": ".py",
   "mimetype": "text/x-python",
   "name": "python",
   "nbconvert_exporter": "python",
   "pygments_lexer": "ipython3",
   "version": "3.10.8"
  }
 },
 "nbformat": 4,
 "nbformat_minor": 5
}
