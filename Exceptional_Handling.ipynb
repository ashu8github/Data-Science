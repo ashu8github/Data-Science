{
 "cells": [
  {
   "cell_type": "code",
   "execution_count": 1,
   "id": "ec77f33f-f067-4b1a-abc9-3b9bcbbefd7a",
   "metadata": {},
   "outputs": [
    {
     "data": {
      "text/plain": [
       "'An Exception is an error that happens during the runtime of a program.\\nWhenever there is an error, Python generates an exception that could be handled. It basically prevents the program from getting crashed or terminated.'"
      ]
     },
     "execution_count": 1,
     "metadata": {},
     "output_type": "execute_result"
    }
   ],
   "source": [
    "#What is an exception in python? Write the differen, betweeen exceptions and syntax error\n",
    "'''An Exception is an error that happens during the runtime of a program.\n",
    "Whenever there is an error, Python generates an exception that could be handled. It basically prevents the program from getting crashed or terminated.'''\n",
    "#Exception Occurs dureing the execution of the program.\n",
    "#Syntax error comes during the comilation of the program."
   ]
  },
  {
   "cell_type": "code",
   "execution_count": 3,
   "id": "097b632e-4360-44e3-958e-35d7d9509ad9",
   "metadata": {},
   "outputs": [],
   "source": [
    "#Q2. What happens when an exception is not handled? Explain with an example\n",
    "'If an exception is not handled by try block), the runtime system will abort the program (i.e. crash) and an exception message will print to the console.'\n",
    "\n",
    "def fun1(a):\n",
    "    print(a/0)"
   ]
  },
  {
   "cell_type": "code",
   "execution_count": 4,
   "id": "245570cf-e2f4-4eff-be91-27a8ec9c71ab",
   "metadata": {},
   "outputs": [
    {
     "ename": "ZeroDivisionError",
     "evalue": "division by zero",
     "output_type": "error",
     "traceback": [
      "\u001b[0;31m---------------------------------------------------------------------------\u001b[0m",
      "\u001b[0;31mZeroDivisionError\u001b[0m                         Traceback (most recent call last)",
      "Cell \u001b[0;32mIn[4], line 1\u001b[0m\n\u001b[0;32m----> 1\u001b[0m \u001b[43mfun1\u001b[49m\u001b[43m(\u001b[49m\u001b[38;5;241;43m5\u001b[39;49m\u001b[43m)\u001b[49m\n",
      "Cell \u001b[0;32mIn[3], line 5\u001b[0m, in \u001b[0;36mfun1\u001b[0;34m(a)\u001b[0m\n\u001b[1;32m      4\u001b[0m \u001b[38;5;28;01mdef\u001b[39;00m \u001b[38;5;21mfun1\u001b[39m(a):\n\u001b[0;32m----> 5\u001b[0m     \u001b[38;5;28mprint\u001b[39m(\u001b[43ma\u001b[49m\u001b[38;5;241;43m/\u001b[39;49m\u001b[38;5;241;43m0\u001b[39;49m)\n",
      "\u001b[0;31mZeroDivisionError\u001b[0m: division by zero"
     ]
    }
   ],
   "source": [
    "fun1(5)"
   ]
  },
  {
   "cell_type": "code",
   "execution_count": 5,
   "id": "fa6a1b7b-b4e4-4e74-a1d9-f023ee5e051e",
   "metadata": {},
   "outputs": [
    {
     "name": "stdout",
     "output_type": "stream",
     "text": [
      "Thers is some error during the execution: division by zero\n"
     ]
    }
   ],
   "source": [
    "#Q3. Which python statement are used to catch and handle exceptions? Explain with an example.\n",
    "#try and except are used to handle exception in python\n",
    "\n",
    "try:\n",
    "    fun1(5)\n",
    "except Exception as e:\n",
    "    print('Thers is some error during the execution: {}'.format(e))"
   ]
  },
  {
   "cell_type": "code",
   "execution_count": 28,
   "id": "6a55d6bb-7a4f-4882-a783-e37a6691f13c",
   "metadata": {},
   "outputs": [],
   "source": [
    "'''Q4. Explain with an example:\n",
    "a. try and else\n",
    "b. finally\n",
    "c. raise'''\n",
    "\n",
    "def fun2(a,b): \n",
    "    c = a/b\n",
    "    return c"
   ]
  },
  {
   "cell_type": "code",
   "execution_count": 32,
   "id": "a0bd416b-6a92-44dd-b815-604959b34b96",
   "metadata": {},
   "outputs": [
    {
     "name": "stdout",
     "output_type": "stream",
     "text": [
      "Try block ran without any exception with the return value of 4.166666666666667\n",
      "Finally block will execute even if there will be exception in try\n"
     ]
    }
   ],
   "source": [
    "try:\n",
    "    c = fun2(25,6)\n",
    "except Exception as e:\n",
    "    print('Thers is some error during the execution: {}'.format(e))\n",
    "else:\n",
    "    print('Try block ran without any exception with the return value of {}'.format(c))\n",
    "finally:\n",
    "    print('Finally block will execute even if there will be exception in try')"
   ]
  },
  {
   "cell_type": "code",
   "execution_count": 38,
   "id": "e6dc0281-8798-4fcc-a05b-8825ab70e5b6",
   "metadata": {},
   "outputs": [],
   "source": [
    "def fun3(age):\n",
    "    if age <19:\n",
    "        raise Exception('You are not eligible for voting')\n",
    "    else:\n",
    "        m = 'You are eligible for voting'\n",
    "    return m"
   ]
  },
  {
   "cell_type": "code",
   "execution_count": 39,
   "id": "de6aaa87-b5de-46d0-bdbf-4b1690868c0d",
   "metadata": {},
   "outputs": [
    {
     "name": "stdout",
     "output_type": "stream",
     "text": [
      "You are not eligible for voting\n"
     ]
    }
   ],
   "source": [
    "try:\n",
    "    fun3(16)\n",
    "except Exception as e:\n",
    "    print(e)"
   ]
  },
  {
   "cell_type": "code",
   "execution_count": 40,
   "id": "64b8e34b-f868-4c57-91cd-3bc2d6c15767",
   "metadata": {},
   "outputs": [
    {
     "name": "stdout",
     "output_type": "stream",
     "text": [
      "This is my custom exception\n"
     ]
    }
   ],
   "source": [
    "'''Q5. What are Custom Exceptions in Python? Why do we need Custom Exceptions? Explain with an excample'''\n",
    "#we can define custom exceptions by creating a new class that is derived from the built-in Exception class. We need custom exception to define Business Exception accoring to the Business logic.\n",
    "class CustomException(Exception):\n",
    "    \"\"\" my custom exception class \"\"\"\n",
    "\n",
    "\n",
    "try:\n",
    "    raise CustomException('This is my custom exception')\n",
    "except CustomException as ex:\n",
    "    print(ex)"
   ]
  },
  {
   "cell_type": "code",
   "execution_count": 6,
   "id": "5343d8bf-0d86-4e16-869e-f52bf31ba9a5",
   "metadata": {},
   "outputs": [],
   "source": [
    "#Q6. Create a custom exception class. Use this class to handle an exception\n",
    "\n",
    "class customException(Exception):\n",
    "    def __init__(self, marks):\n",
    "        self.marks = marks\n",
    "        \n",
    "    "
   ]
  },
  {
   "cell_type": "code",
   "execution_count": 5,
   "id": "761735f7-dc1d-4abf-be6e-636d4781c013",
   "metadata": {},
   "outputs": [],
   "source": [
    "def result(marks):\n",
    "    if marks < 33:\n",
    "        raise customException('Sorry, you have not passed the exam')\n",
    "    else:\n",
    "        print('Congratulations!, you have passed the exam')"
   ]
  },
  {
   "cell_type": "code",
   "execution_count": 10,
   "id": "e491b22d-0985-42cc-8772-a5d96b0c434f",
   "metadata": {},
   "outputs": [
    {
     "name": "stdout",
     "output_type": "stream",
     "text": [
      "Congratulations!, you have passed the exam\n"
     ]
    }
   ],
   "source": [
    "try:\n",
    "    result(88)\n",
    "except customException as cE:\n",
    "    print(cE)"
   ]
  },
  {
   "cell_type": "code",
   "execution_count": null,
   "id": "85efb0e4-bcfa-4ffb-8192-12a26f11cc19",
   "metadata": {},
   "outputs": [],
   "source": []
  }
 ],
 "metadata": {
  "kernelspec": {
   "display_name": "Python 3 (ipykernel)",
   "language": "python",
   "name": "python3"
  },
  "language_info": {
   "codemirror_mode": {
    "name": "ipython",
    "version": 3
   },
   "file_extension": ".py",
   "mimetype": "text/x-python",
   "name": "python",
   "nbconvert_exporter": "python",
   "pygments_lexer": "ipython3",
   "version": "3.10.8"
  }
 },
 "nbformat": 4,
 "nbformat_minor": 5
}
