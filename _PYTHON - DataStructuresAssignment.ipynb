{
 "cells": [
  {
   "cell_type": "code",
   "execution_count": 3,
   "id": "af3534c4-36ab-4b19-83c5-cb06f38b8c89",
   "metadata": {},
   "outputs": [
    {
     "data": {
      "text/plain": [
       "'Multi\\nLine\\nComment'"
      ]
     },
     "execution_count": 3,
     "metadata": {},
     "output_type": "execute_result"
    }
   ],
   "source": [
    "#Q1. How do you comment code in Python? What are the different types of comments?\n",
    "#one of the way to comment code in python is #. \n",
    "#This is single line comment\n",
    "#there are two types of comments\n",
    "#single line comment\n",
    "'''Multi\n",
    "Line\n",
    "Comment'''\n",
    "#Another comment\n",
    "'''We can use single or double quotes thrice for multi line comments.\n",
    "This is multi line comment'''\n"
   ]
  },
  {
   "cell_type": "code",
   "execution_count": 4,
   "id": "97e7f390-3ddd-4597-b6ec-b421bb19db0c",
   "metadata": {},
   "outputs": [
    {
     "name": "stdout",
     "output_type": "stream",
     "text": [
      "We can use single or douple quotes thrice for multi line comments.\n",
      "This is multi line comment\n"
     ]
    }
   ],
   "source": [
    "#Q2. What are variables in Python? How do you declare and assign values to variables?\n",
    "#Variable are used to store values, data of different data types. \n",
    "#There is no keyword to declare variables in python. A variable is created the moment we assign value to it.\n",
    "#Values are assigned to variables by using '=' operator"
   ]
  },
  {
   "cell_type": "code",
   "execution_count": 5,
   "id": "1ddb3893-967a-42e6-945a-d8222c98ccfd",
   "metadata": {},
   "outputs": [
    {
     "name": "stdout",
     "output_type": "stream",
     "text": [
      "<class 'int'>\n",
      "<class 'str'>\n"
     ]
    }
   ],
   "source": [
    "#Q3. How do you convert one data type to another in Python?\n",
    "#By using type conversion functions viz int(), str()\n",
    "count1 = 123\n",
    "print(type(count1))\n",
    "count2 = str(count1)\n",
    "print(type(count2))\n"
   ]
  },
  {
   "cell_type": "code",
   "execution_count": 6,
   "id": "7ba4928f-e0a3-4abe-97e8-70ff9d8a0582",
   "metadata": {},
   "outputs": [],
   "source": [
    "#Q4. How do you write and execute a Python script from the command line?\n",
    "#TO run a Python script we can use python command followed by the path to our script file like below:\n",
    "#python my_script.py \n"
   ]
  },
  {
   "cell_type": "code",
   "execution_count": 3,
   "id": "d760b153-4b35-4446-8226-c9dc8a3372d1",
   "metadata": {},
   "outputs": [
    {
     "data": {
      "text/plain": [
       "[2, 3]"
      ]
     },
     "execution_count": 3,
     "metadata": {},
     "output_type": "execute_result"
    }
   ],
   "source": [
    "#Q5. Given a list my_list = [1, 2, 3, 4, 5], write the code to slice the list and obtain the sub-list [2, 3].\n",
    "my_list = [1, 2, 3, 4, 5]\n",
    "my_list[1:3]"
   ]
  },
  {
   "cell_type": "code",
   "execution_count": 4,
   "id": "7912492e-ed2a-4595-a6f2-ffb4bbcc5bf8",
   "metadata": {},
   "outputs": [
    {
     "name": "stdout",
     "output_type": "stream",
     "text": [
      "(4+7j)\n"
     ]
    }
   ],
   "source": [
    "#Q6. What is a complex number in mathematics, and how is it represented in Python?\n",
    "#Complex numbers are the numbers that are expressed in the form of a+ib where, a,b are real numbers and 'i' is an imaginary number called “iota”\n",
    "c = complex(4,7)\n",
    "print(c)"
   ]
  },
  {
   "cell_type": "code",
   "execution_count": 5,
   "id": "30ddc5f0-7fd9-4425-b1ea-075782a6a4dc",
   "metadata": {},
   "outputs": [],
   "source": [
    "#Q7. What is the correct way to declare a variable named age and assign the value 25 to it?\n",
    "age = 25\n",
    "var_age = 25"
   ]
  },
  {
   "cell_type": "code",
   "execution_count": 6,
   "id": "8c3a7c62-8515-445f-92d3-4f960b46ead2",
   "metadata": {},
   "outputs": [
    {
     "data": {
      "text/plain": [
       "float"
      ]
     },
     "execution_count": 6,
     "metadata": {},
     "output_type": "execute_result"
    }
   ],
   "source": [
    "#Q8. Declare a variable named price and assign the value 9.99 to it. What data type does this variable belong to?\n",
    "price = 9.99\n",
    "type(price) #this will return float data type"
   ]
  },
  {
   "cell_type": "code",
   "execution_count": 8,
   "id": "d4d4ccc1-080b-4a21-9dea-36115f81e634",
   "metadata": {},
   "outputs": [
    {
     "name": "stdout",
     "output_type": "stream",
     "text": [
      "Ashish Choudhary\n"
     ]
    }
   ],
   "source": [
    "#Q9. Create a variable named name and assign your full name to it as a string. How would you print the value of this variable?\n",
    "name = 'Ashish Choudhary'\n",
    "print(name)"
   ]
  },
  {
   "cell_type": "code",
   "execution_count": 11,
   "id": "4d23f2ad-ade6-49f8-99dd-2ea291300a51",
   "metadata": {},
   "outputs": [
    {
     "data": {
      "text/plain": [
       "'World'"
      ]
     },
     "execution_count": 11,
     "metadata": {},
     "output_type": "execute_result"
    }
   ],
   "source": [
    "#Q10. Given the string \"Hello, World!\", extract the substring \"World\".\n",
    "a = 'Hello, World'\n",
    "a[7:12]"
   ]
  },
  {
   "cell_type": "code",
   "execution_count": 12,
   "id": "2527f3e4-ccc8-4744-90a6-ebe4d244c269",
   "metadata": {},
   "outputs": [
    {
     "name": "stdout",
     "output_type": "stream",
     "text": [
      "False\n"
     ]
    }
   ],
   "source": [
    "#Q11. Create a variable named \"is_student\" and assign it a boolean value indicating whether you are currently a student or not.\n",
    "is_student = False\n",
    "print(is_student)"
   ]
  },
  {
   "cell_type": "code",
   "execution_count": null,
   "id": "b9e6a9a3-1d35-4d65-b8a5-5cce26929aab",
   "metadata": {},
   "outputs": [],
   "source": []
  }
 ],
 "metadata": {
  "kernelspec": {
   "display_name": "Python 3 (ipykernel)",
   "language": "python",
   "name": "python3"
  },
  "language_info": {
   "codemirror_mode": {
    "name": "ipython",
    "version": 3
   },
   "file_extension": ".py",
   "mimetype": "text/x-python",
   "name": "python",
   "nbconvert_exporter": "python",
   "pygments_lexer": "ipython3",
   "version": "3.10.8"
  }
 },
 "nbformat": 4,
 "nbformat_minor": 5
}
