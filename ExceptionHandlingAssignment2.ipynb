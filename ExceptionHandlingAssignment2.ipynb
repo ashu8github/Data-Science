{
 "cells": [
  {
   "cell_type": "code",
   "execution_count": 1,
   "id": "49bd93be-7e61-4957-853b-201dfd805b28",
   "metadata": {},
   "outputs": [
    {
     "data": {
      "text/plain": [
       "'Built-in exceptions offer information about Python-related problems, and custom exceptions will add information about project-related problems. \\nWe can design our code (and traceback, if an exception is raised) in a way that combines Python code with the logic of our code.'"
      ]
     },
     "execution_count": 1,
     "metadata": {},
     "output_type": "execute_result"
    }
   ],
   "source": [
    "#Q1. Explain why we have to use the Exception class while creating a Custom Exception.\n",
    "'''Built-in exceptions offer information about Python-related problems, and custom exceptions will add information about project-related problems. \n",
    "We can design our code (and traceback, if an exception is raised) in a way that combines Python code with the logic of our code.'''"
   ]
  },
  {
   "cell_type": "code",
   "execution_count": null,
   "id": "f24a584a-c40b-4d19-89bf-6f4ab86488d1",
   "metadata": {},
   "outputs": [],
   "source": [
    "#Q2. Write a python program to print Python Exception Hierarchy.\n",
    "\n",
    "import inspect as ipt\n",
    "def tree_class(cls, ind = 0):\n",
    "    print ('-' * ind, cls.__name__)\n",
    "    for i in cls.__subclasses__():\n",
    "        tree_class(i, ind + 3)\n",
    "print (\"Inbuilt exceptions is: \")\n",
    "\n",
    "ipt.getclasstree(ipt.getmro(BaseException))\n",
    "\n",
    "tree_class(BaseException)"
   ]
  },
  {
   "cell_type": "code",
   "execution_count": 3,
   "id": "7f651268-afee-44ec-9309-9261729e0455",
   "metadata": {},
   "outputs": [
    {
     "name": "stdout",
     "output_type": "stream",
     "text": [
      "This statement is raising an arithmetic exception with the error division by zero\n"
     ]
    }
   ],
   "source": [
    "#Q3. What errors are defined in the ArithmeticError class? Explain any two with an example.\n",
    "'''exception ArithmeticError\n",
    "This class is the base class for those built-in exceptions that are raised for various arithmetic errors such as :\n",
    "OverflowError\n",
    "ZeroDivisionError\n",
    "FloatingPointError'''\n",
    "\n",
    "\n",
    "\n",
    "try:   \n",
    "    a = 10/0\n",
    "    print (a) \n",
    "except ArithmeticError as AE:   \n",
    "        print (\"This statement is raising an arithmetic exception with the error {}\".format(AE)) \n",
    "else:   \n",
    "    print (\"Success.\") "
   ]
  },
  {
   "cell_type": "code",
   "execution_count": 11,
   "id": "888c3911-f971-43dc-967d-862bad6246aa",
   "metadata": {},
   "outputs": [
    {
     "name": "stdout",
     "output_type": "stream",
     "text": [
      "0 3.0\n",
      "1 9.0\n",
      "2 81.0\n",
      "3 6561.0\n",
      "4 43046721.0\n",
      "5 1853020188851841.0\n",
      "6 3.4336838202925124e+30\n",
      "7 1.1790184577738583e+61\n",
      "8 1.3900845237714473e+122\n",
      "9 1.9323349832288915e+244\n",
      "Overflowed after 1.9323349832288915e+244 (34, 'Numerical result out of range')\n"
     ]
    }
   ],
   "source": [
    "i=1\n",
    "try:\n",
    "    f = 3.0**i\n",
    "    for i in range(100):\n",
    "        print(i, f)\n",
    "        f = f ** 2\n",
    "except OverflowError as err:\n",
    "    print('Overflowed after {} {}'.format(f, err))"
   ]
  },
  {
   "cell_type": "code",
   "execution_count": 13,
   "id": "7b9f81ff-454a-438a-bb43-589ce1444b82",
   "metadata": {},
   "outputs": [
    {
     "name": "stdout",
     "output_type": "stream",
     "text": [
      "list index out of range, <class 'IndexError'>\n"
     ]
    }
   ],
   "source": [
    "#Q4. Why LookupError class is used? Explain with an example KeyError and IndexError.\n",
    "'''The LookupError exception in Python forms the base class for all exceptions that are raised,\n",
    "when an index or a key is not found for a sequence or dictionary respectively.'''\n",
    "\n",
    "x = [1, 2, 3, 4]\n",
    "try:\n",
    "    print(x[10])\n",
    "except LookupError as e:\n",
    "    print(f\"{e}, {e.__class__}\")"
   ]
  },
  {
   "cell_type": "code",
   "execution_count": 1,
   "id": "22dae9cd-9b86-4d59-86ec-536b5c2cdfe5",
   "metadata": {},
   "outputs": [
    {
     "name": "stdout",
     "output_type": "stream",
     "text": [
      "'Company', <class 'KeyError'>\n"
     ]
    }
   ],
   "source": [
    "info = {'name': 'Ashish Choudhary',\n",
    "                'age': 29,\n",
    "                'language': 'Python'}\n",
    "\n",
    "try:\n",
    "    print(info['Company'])\n",
    "except LookupError as e:\n",
    "    print(f'{e}, {e.__class__}')"
   ]
  },
  {
   "cell_type": "code",
   "execution_count": 2,
   "id": "4b68969a-5750-4ba5-82be-ce75be079de8",
   "metadata": {},
   "outputs": [
    {
     "data": {
      "text/plain": [
       "'The ImportError is raised when an import statement has trouble successfully importing the specified module.\\nTypically, such a problem is due to an invalid or incorrect path, which will raise a ModuleNotFoundError in Python 3.6 and newer versions.'"
      ]
     },
     "execution_count": 2,
     "metadata": {},
     "output_type": "execute_result"
    }
   ],
   "source": [
    "#Q5. Explain ImportError. What is ModuleNotFoundError?\n",
    "'''The ImportError is raised when an import statement has trouble successfully importing the specified module.\n",
    "Typically, such a problem is due to an invalid or incorrect path, which will raise a ModuleNotFoundError in Python 3.6 and newer versions.'''"
   ]
  },
  {
   "cell_type": "code",
   "execution_count": 3,
   "id": "b682b174-eff6-4720-b7b3-980a48e7a6a0",
   "metadata": {},
   "outputs": [
    {
     "data": {
      "text/plain": [
       "'Use Specific Exceptions. \\nImplement Error Logging. ...\\nDefine Custom Exception Classes. ...\\nHandle Exceptions Gracefully. ...\\nUse Finally for Cleanup Tasks.'"
      ]
     },
     "execution_count": 3,
     "metadata": {},
     "output_type": "execute_result"
    }
   ],
   "source": [
    "#Q6. List down some best practices for exception handling in python.\n",
    "'''Use Specific Exceptions. \n",
    "Implement Error Logging. ...\n",
    "Define Custom Exception Classes. ...\n",
    "Handle Exceptions Gracefully. ...\n",
    "Use Finally for Cleanup Tasks.'''"
   ]
  },
  {
   "cell_type": "code",
   "execution_count": null,
   "id": "45e9d3c1-6bdb-41cd-9914-8d0f6a06c381",
   "metadata": {},
   "outputs": [],
   "source": []
  }
 ],
 "metadata": {
  "kernelspec": {
   "display_name": "Python 3 (ipykernel)",
   "language": "python",
   "name": "python3"
  },
  "language_info": {
   "codemirror_mode": {
    "name": "ipython",
    "version": 3
   },
   "file_extension": ".py",
   "mimetype": "text/x-python",
   "name": "python",
   "nbconvert_exporter": "python",
   "pygments_lexer": "ipython3",
   "version": "3.10.8"
  }
 },
 "nbformat": 4,
 "nbformat_minor": 5
}
